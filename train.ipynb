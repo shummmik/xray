{
 "cells": [
  {
   "cell_type": "code",
   "execution_count": 1,
   "id": "ed87181c",
   "metadata": {},
   "outputs": [],
   "source": [
    "import os\n",
    "import cv2\n",
    "from os.path import join\n",
    "import numpy as np\n",
    "from tqdm import tqdm\n",
    "import matplotlib.pyplot as plt\n",
    "\n",
    "from PIL import Image\n",
    "import pickle\n",
    "\n",
    "import torch\n",
    "import torch.nn as nn\n",
    "import torch.optim as optim\n",
    "import torch.nn.functional as F\n",
    "from torch.utils.data import Dataset, DataLoader\n",
    "from torch.utils.data import random_split\n",
    "from model import Unet\n"
   ]
  },
  {
   "cell_type": "code",
   "execution_count": 2,
   "id": "82625152",
   "metadata": {},
   "outputs": [],
   "source": [
    "SHAPE_DOWN = (256, 256)\n",
    "FLAG = cv2.IMREAD_GRAYSCALE\n",
    "BATCH_SIZE = 8 "
   ]
  },
  {
   "cell_type": "code",
   "execution_count": 3,
   "id": "6c02d7a5",
   "metadata": {},
   "outputs": [],
   "source": [
    "def read_image(path: str, shape: tuple) -> np.array:\n",
    "    img = cv2.imread(path, FLAG)\n",
    "    return cv2.resize(img, shape)"
   ]
  },
  {
   "cell_type": "code",
   "execution_count": 4,
   "id": "2ccd8bfd",
   "metadata": {},
   "outputs": [],
   "source": [
    "# img_dir = './data/Lung Segmentation/CXR_png'\n",
    "# mask_dir = './data/Lung Segmentation/masks'\n",
    "# mask_names = os.listdir (mask_dir)\n",
    "\n",
    "# img_files = os.listdir (img_dir)\n",
    "# mask_files = os.listdir (mask_dir)\n",
    "\n",
    "# img_files_name = [i.split(\".png\")[0] for i in os.listdir (img_dir)]\n",
    "\n",
    "# pairs = [(i.split(\"_mask\")[0] + '.png', i) for i in mask_files if (i.split(\"_mask\")[0] + '.png') in img_files]\n",
    "\n",
    "# img_reshape = [[read_image(join(img_dir, i[0]), SHAPE_DOWN), \n",
    "#                 read_image(join(mask_dir, i[1]), SHAPE_DOWN)] for i in tqdm(pairs)]\n",
    "\n",
    "# with open('data.pickle', 'wb') as f:\n",
    "#     pickle.dump(img_reshape, f)"
   ]
  },
  {
   "cell_type": "code",
   "execution_count": 5,
   "id": "ca47e6b3",
   "metadata": {},
   "outputs": [],
   "source": [
    "with open('data.pickle', 'rb') as f:\n",
    "    img_reshape = pickle.load(f)"
   ]
  },
  {
   "cell_type": "code",
   "execution_count": 6,
   "id": "8e817383",
   "metadata": {},
   "outputs": [],
   "source": [
    "np_img = np.array(img_reshape)\n",
    "np_img = np_img/255\n",
    "train_ds = np.expand_dims(np_img, axis=-1)"
   ]
  },
  {
   "cell_type": "code",
   "execution_count": 7,
   "id": "4df60ecf",
   "metadata": {},
   "outputs": [],
   "source": [
    "train_size = int(train_ds.shape[0]*0.8)\n",
    "train_ds, test_ds = train_ds[:train_size,:], train_ds[train_size:,:]\n",
    "val_size = int(train_ds.shape[0]*0.2)\n",
    "train_size = len(train_ds) - val_size\n",
    "train_ds, val_ds = random_split(train_ds, [train_size, val_size])\n",
    "\n",
    "train_dl = DataLoader(train_ds, batch_size=BATCH_SIZE, shuffle=True)\n",
    "val_dl = DataLoader(val_ds, batch_size=BATCH_SIZE, shuffle=False)\n",
    "test_dl = DataLoader(test_ds, batch_size=BATCH_SIZE, shuffle=False)"
   ]
  },
  {
   "cell_type": "code",
   "execution_count": 8,
   "id": "dbe3606c",
   "metadata": {},
   "outputs": [
    {
     "name": "stdout",
     "output_type": "stream",
     "text": [
      "Loss train in epoch 0 :::: 0.050597319055510605\n",
      "Loss test in epoch 0 :::: 0.2713375392059485\n",
      "Loss train in epoch 1 :::: 0.022945955820867548\n",
      "Loss test in epoch 1 :::: 0.08989862259477377\n",
      "Loss train in epoch 2 :::: 0.020613926604552114\n",
      "Loss test in epoch 2 :::: 0.08191868631790082\n",
      "Loss train in epoch 3 :::: 0.019041431926028883\n",
      "Loss test in epoch 3 :::: 0.07352655486514172\n",
      "Loss train in epoch 4 :::: 0.018452227054892675\n",
      "Loss test in epoch 4 :::: 0.07652916964143515\n"
     ]
    }
   ],
   "source": [
    "device = torch.device('cuda' if torch.cuda.is_available() else 'cpu') \n",
    "\n",
    "model = Unet() \n",
    "\n",
    "model = model.to(device=device) \n",
    "\n",
    "\n",
    "learning_rate = 1e-4 \n",
    "criterion = nn.MSELoss()\n",
    "optimizer = optim.RMSprop(model.parameters(), lr=learning_rate, weight_decay=1e-8, momentum=0.9)\n",
    "for epoch in range(5): \n",
    "    loss_ep = 0\n",
    "    model.train()\n",
    "    for batch_idx, data in enumerate(train_dl):\n",
    "        data = data.to(device=device)\n",
    "        \n",
    "        optimizer.zero_grad()\n",
    "        scores = model(data[:, 0].permute(0, 3, 1, 2).float())\n",
    "\n",
    "        loss = criterion(scores.permute(0, 2, 3, 1), data[:, 1].float()) #permute(0, 3, 1, 2)\n",
    "        \n",
    "        loss.backward()\n",
    "        optimizer.step()\n",
    "        loss_ep += loss.item()\n",
    "    print(f\"Loss train in epoch {epoch} :::: {loss_ep/len(train_dl)}\")\n",
    "    \n",
    "    model.eval()\n",
    "    for batch_idx, data in enumerate(test_dl):\n",
    "        data = data.to(device=device)\n",
    "        scores = model(data[:, 0].permute(0, 3, 1, 2).float())\n",
    "        loss = criterion(scores.permute(0, 2, 3, 1), data[:, 1].float()) #permute(0, 3, 1, 2)\n",
    "        loss_ep += loss.item()\n",
    "    print(f\"Loss test in epoch {epoch} :::: {loss_ep/len(test_dl)}\")\n",
    "    "
   ]
  },
  {
   "cell_type": "code",
   "execution_count": 9,
   "id": "bc62176e",
   "metadata": {},
   "outputs": [],
   "source": [
    "device = torch.device('cpu')\n",
    "\n",
    "model = model.to(device=device)"
   ]
  },
  {
   "cell_type": "code",
   "execution_count": 10,
   "id": "87bfacd0",
   "metadata": {},
   "outputs": [],
   "source": [
    "torch.save(model, 'model.pt')"
   ]
  },
  {
   "cell_type": "code",
   "execution_count": 11,
   "id": "7c22d9fa",
   "metadata": {},
   "outputs": [],
   "source": [
    "out = model(torch.from_numpy(np.expand_dims(np.expand_dims(np_img[0][0], axis=-1), axis=0)).permute(0, 3, 1, 2).float().to(device=device))"
   ]
  },
  {
   "cell_type": "code",
   "execution_count": 12,
   "id": "2911730c",
   "metadata": {},
   "outputs": [],
   "source": [
    "out = torch.round(out)"
   ]
  },
  {
   "cell_type": "code",
   "execution_count": 13,
   "id": "108e0efa",
   "metadata": {},
   "outputs": [],
   "source": [
    "cv2.imshow('window_name', (out.permute(0, 2, 3, 1).reshape(256,256).detach().cpu().numpy()*255).astype(np.uint8))\n",
    "cv2.waitKey(0)\n",
    "cv2.destroyAllWindows()"
   ]
  },
  {
   "cell_type": "code",
   "execution_count": 14,
   "id": "bde575db",
   "metadata": {},
   "outputs": [],
   "source": [
    "out = model(torch.from_numpy(np.expand_dims(train_ds.dataset[0][0], axis=0)).permute(0, 3, 1, 2).float().to(device=device))"
   ]
  },
  {
   "cell_type": "code",
   "execution_count": 15,
   "id": "37d07c08",
   "metadata": {},
   "outputs": [],
   "source": [
    "cv2.imshow('window_name', (out.permute(0, 2, 3, 1).reshape(256,256).detach().cpu().numpy()*255).astype(np.uint8))\n",
    "cv2.waitKey(0)\n",
    "cv2.destroyAllWindows()"
   ]
  },
  {
   "cell_type": "code",
   "execution_count": 16,
   "id": "5a508155",
   "metadata": {},
   "outputs": [],
   "source": [
    "cv2.imshow('window_name', train_ds.dataset[0][1])\n",
    "cv2.waitKey(0)\n",
    "cv2.destroyAllWindows()"
   ]
  },
  {
   "cell_type": "code",
   "execution_count": null,
   "id": "3747a621",
   "metadata": {},
   "outputs": [],
   "source": []
  },
  {
   "cell_type": "code",
   "execution_count": null,
   "id": "51f528fc",
   "metadata": {},
   "outputs": [],
   "source": []
  },
  {
   "cell_type": "code",
   "execution_count": null,
   "id": "80119bf5",
   "metadata": {},
   "outputs": [],
   "source": []
  }
 ],
 "metadata": {
  "kernelspec": {
   "display_name": "Python 3 (ipykernel)",
   "language": "python",
   "name": "python3"
  },
  "language_info": {
   "codemirror_mode": {
    "name": "ipython",
    "version": 3
   },
   "file_extension": ".py",
   "mimetype": "text/x-python",
   "name": "python",
   "nbconvert_exporter": "python",
   "pygments_lexer": "ipython3",
   "version": "3.9.12"
  }
 },
 "nbformat": 4,
 "nbformat_minor": 5
}
